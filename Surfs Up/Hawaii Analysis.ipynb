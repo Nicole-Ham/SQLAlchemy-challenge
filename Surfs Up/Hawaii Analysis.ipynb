{
 "cells": [
  {
   "cell_type": "code",
   "execution_count": 1,
   "id": "ee8cb287",
   "metadata": {},
   "outputs": [],
   "source": [
    "from sqlalchemy.ext.automap import automap_base\n",
    "from sqlalchemy.orm import Session\n",
    "from sqlalchemy import create_engine, func\n",
    "import datetime as dt\n",
    "import pandas as pd\n",
    "import matplotlib.pyplot as plt"
   ]
  },
  {
   "cell_type": "code",
   "execution_count": 2,
   "id": "3fc4e942",
   "metadata": {},
   "outputs": [],
   "source": [
    "engine = create_engine(\"sqlite:///Resources/hawaii.sqlite\")"
   ]
  },
  {
   "cell_type": "code",
   "execution_count": 3,
   "id": "e31721cd",
   "metadata": {},
   "outputs": [],
   "source": [
    "base = automap_base()\n",
    "base.prepare(engine)"
   ]
  },
  {
   "cell_type": "code",
   "execution_count": 4,
   "id": "176d5c56",
   "metadata": {},
   "outputs": [
    {
     "data": {
      "text/plain": [
       "<sqlalchemy.util._collections.Properties at 0x1ccd4033190>"
      ]
     },
     "execution_count": 4,
     "metadata": {},
     "output_type": "execute_result"
    }
   ],
   "source": [
    "base.classes"
   ]
  },
  {
   "cell_type": "code",
   "execution_count": 5,
   "id": "3aef98ed",
   "metadata": {},
   "outputs": [
    {
     "data": {
      "text/plain": [
       "['measurement', 'station']"
      ]
     },
     "execution_count": 5,
     "metadata": {},
     "output_type": "execute_result"
    }
   ],
   "source": [
    "base.classes.keys()"
   ]
  },
  {
   "cell_type": "code",
   "execution_count": 6,
   "id": "7ae5821d",
   "metadata": {},
   "outputs": [],
   "source": [
    "measurement = base.classes.measurement\n",
    "station = base.classes.station\n",
    "session = Session(engine)"
   ]
  },
  {
   "cell_type": "markdown",
   "id": "20de28d6",
   "metadata": {},
   "source": [
    "## Precipitation Analysis"
   ]
  },
  {
   "cell_type": "code",
   "execution_count": 7,
   "id": "55127d65",
   "metadata": {},
   "outputs": [
    {
     "data": {
      "text/plain": [
       "('2017-08-23',)"
      ]
     },
     "execution_count": 7,
     "metadata": {},
     "output_type": "execute_result"
    }
   ],
   "source": [
    "# Find the most recent date in the dataset.\n",
    "recent_date = session.query(measurement.date).order_by(measurement.date.desc()).first()\n",
    "recent_date"
   ]
  },
  {
   "cell_type": "code",
   "execution_count": 8,
   "id": "68884feb",
   "metadata": {},
   "outputs": [
    {
     "data": {
      "text/plain": [
       "('2017-08-23',)"
      ]
     },
     "execution_count": 8,
     "metadata": {},
     "output_type": "execute_result"
    }
   ],
   "source": [
    "recent_datetwo = session.query(func.max(measurement.date)).first()\n",
    "recent_datetwo"
   ]
  },
  {
   "cell_type": "code",
   "execution_count": 9,
   "id": "b7650383",
   "metadata": {},
   "outputs": [
    {
     "data": {
      "text/plain": [
       "datetime.date(2016, 8, 23)"
      ]
     },
     "execution_count": 9,
     "metadata": {},
     "output_type": "execute_result"
    }
   ],
   "source": [
    "# Using that date, get the previous 12 months of precipitation data by querying the previous 12 months of data.\n",
    "last_year = dt.date(2017,8,23)-dt.timedelta(days=365)\n",
    "last_year"
   ]
  },
  {
   "cell_type": "code",
   "execution_count": null,
   "id": "6ad3a57e",
   "metadata": {},
   "outputs": [],
   "source": [
    "# Select only the \"date\" and \"prcp\" values.\n",
    "question_two = session.query(measurement.date, measurement.prcp).filter(measurement.date > last_year).all()\n",
    "question_two"
   ]
  },
  {
   "cell_type": "code",
   "execution_count": null,
   "id": "136d8ea5",
   "metadata": {},
   "outputs": [],
   "source": [
    "# Load the query results into a Pandas DataFrame. Explicitly set the column names.\n",
    "date_pcp = pd.DataFrame(question_two)\n",
    "date_pcp\n",
    "#line plot later"
   ]
  },
  {
   "cell_type": "code",
   "execution_count": null,
   "id": "91fc52ad",
   "metadata": {},
   "outputs": [],
   "source": [
    "# Sort the DataFrame values by \"date\".\n",
    "date_sort = date_pcp.sort_values(\"date\")\n",
    "date_sort"
   ]
  },
  {
   "cell_type": "code",
   "execution_count": null,
   "id": "2b6e857c",
   "metadata": {},
   "outputs": [],
   "source": [
    "# Plot the results by using the DataFrame plot method\n",
    "# plt.plot(date_sort[\"date\"], date_sort[\"prcp\"]) #matplotlib method 1\n",
    "# x_axis = date_sort[\"date\"]\n",
    "# y_axis = date_sort[\"prcp\"]\n",
    "# plt.plot(x_axis, y_axis) #matplotlib method 2\n",
    "date_sort.plot(\"date\", \"prcp\")\n",
    "plt.xticks(rotation=90)\n",
    "plt.ylabel(\"Precipitation\")\n",
    "plt.title(\"Hawaii Date and Precipitation\")\n",
    "plt.show()"
   ]
  },
  {
   "cell_type": "code",
   "execution_count": null,
   "id": "891db416",
   "metadata": {},
   "outputs": [],
   "source": [
    "# Use Pandas to print the summary statistics for the precipitation data.\n",
    "date_sort.describe()"
   ]
  },
  {
   "cell_type": "markdown",
   "id": "3399dfc2",
   "metadata": {},
   "source": [
    "## Station Analysis"
   ]
  },
  {
   "cell_type": "code",
   "execution_count": null,
   "id": "ce7e8e11",
   "metadata": {},
   "outputs": [],
   "source": [
    "# Design a query to calculate the total number of stations in the dataset.\n",
    "total_stations = session.query(station.station).count()\n",
    "print(f\"There are {total_stations} total stations in Hawaii\")"
   ]
  },
  {
   "cell_type": "code",
   "execution_count": null,
   "id": "6fb27975",
   "metadata": {},
   "outputs": [],
   "source": [
    "# Design a query to find the most-active stations (that is, the stations that have the most rows). \n",
    "# To do so, complete the following steps:\n",
    "# List the stations and observation counts in descending order.\n",
    "# HINT: You’ll need to use the func.count function in your query.\n",
    "# Answer the following question: which station id has the greatest number of observations?\n",
    "active_station = session.query(measurement.station, func.count(measurement.station)).group_by(measurement.station).\\\n",
    "    order_by(func.count(measurement.station).desc()).all()\n",
    "print(active_station)\n",
    "print(f\"The station ID of {active_station[0][0]} has the greatest number of observations.\")"
   ]
  },
  {
   "cell_type": "code",
   "execution_count": null,
   "id": "ab921d11",
   "metadata": {},
   "outputs": [],
   "source": [
    "# Design a query that calculates the lowest, highest, and average temperatures that filters on \n",
    "# the most-active station id found in the previous query.\n",
    "most_active_stat = session.query(measurement.station, func.min(measurement.tobs),\n",
    "                                func.max(measurement.tobs), func.avg(measurement.tobs)).\\\n",
    "    filter(measurement.station == active_station[0][0]).first()\n",
    "most_active_stat"
   ]
  },
  {
   "cell_type": "code",
   "execution_count": null,
   "id": "2098cc0e",
   "metadata": {},
   "outputs": [],
   "source": [
    "# Design a query to get the previous 12 months of temperature observation (TOBS) data. \n",
    "# Filter by the station that has the greatest number of observations.\n",
    "# Query the previous 12 months of TOBS data for that station.\n",
    "most_active_data = session.query(measurement.tobs).\\\n",
    "    filter(measurement.station == active_station[0][0]).\\\n",
    "    filter(measurement.date > last_year).all()\n",
    "most_active_data"
   ]
  },
  {
   "cell_type": "code",
   "execution_count": null,
   "id": "35b965ef",
   "metadata": {},
   "outputs": [],
   "source": [
    "most_active = pd.DataFrame(most_active_data)\n",
    "most_active"
   ]
  },
  {
   "cell_type": "code",
   "execution_count": null,
   "id": "c151a4c8",
   "metadata": {},
   "outputs": [],
   "source": [
    "# Plot the results as a histogram with bins=12\n",
    "most_active.plot.hist(bins = 12)\n",
    "plt.xlabel(\"Temperature\")\n",
    "plt.title(\"Temperatures for Station USC00519281\")\n",
    "plt.show()"
   ]
  },
  {
   "cell_type": "code",
   "execution_count": null,
   "id": "0703e5f4",
   "metadata": {},
   "outputs": [],
   "source": [
    "# Close your session.\n",
    "session.close()"
   ]
  },
  {
   "cell_type": "code",
   "execution_count": null,
   "id": "75861093",
   "metadata": {},
   "outputs": [],
   "source": []
  }
 ],
 "metadata": {
  "kernelspec": {
   "display_name": "Python 3 (ipykernel)",
   "language": "python",
   "name": "python3"
  },
  "language_info": {
   "codemirror_mode": {
    "name": "ipython",
    "version": 3
   },
   "file_extension": ".py",
   "mimetype": "text/x-python",
   "name": "python",
   "nbconvert_exporter": "python",
   "pygments_lexer": "ipython3",
   "version": "3.11.3"
  }
 },
 "nbformat": 4,
 "nbformat_minor": 5
}
